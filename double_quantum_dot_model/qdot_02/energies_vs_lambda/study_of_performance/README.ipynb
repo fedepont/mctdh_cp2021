{
 "cells": [
  {
   "cell_type": "markdown",
   "id": "eb44449d-955f-4e8f-a398-e23a3d84a4b9",
   "metadata": {
    "tags": []
   },
   "source": [
    "# Study of performance"
   ]
  },
  {
   "cell_type": "markdown",
   "id": "cf652847-d969-4710-81e6-a0188654c2b4",
   "metadata": {
    "tags": []
   },
   "source": [
    "## Primer estudio\n",
    "\n",
    "+ Analizamos tiempos en el cálculo de autoenergías con el método de relajación usando mctdh para distintas configuraciones de simulaciones\n",
    "  + con y sin partículas idénticas\n",
    "  + con y sin paralelismo\n",
    "  \n",
    "las corridas se llevaron a cabo en los clusters zx81 y jupiterace.\n",
    "\n",
    "El análisis de rendimiento para un rango fijo de `lambda` ($\\lambda$ parámero perturbativo) y para una función de onda inicial ($\\psi_{init}$). Se eligieron lo siguientes valores\n",
    "\n",
    "$0.05<=\\lambda<=1 and  $ \n",
    "\n",
    "```\n",
    "INIT_WF-SECTION\n",
    "\tbuild\n",
    "\t\tX1\teigenf\theff\tpop=1\n",
    "\t\tX2\tmap\t\tX1\n",
    "\tend-build\n",
    "\t\n",
    "\tA-coeff\n",
    "\t\t2\t3\t( 1.0, 0.0 )\n",
    "\t\t3\t2\t( -1.0, 0.0 )\n",
    "\tend-A-coeff\n",
    "end-init_wf-section\n",
    "```"
   ]
  },
  {
   "cell_type": "markdown",
   "id": "58eb15db-c09e-434b-911a-ea15fed611d7",
   "metadata": {},
   "source": [
    "### Configuracion 01\n",
    "- sin tratamiento de partículas idénticas\n",
    "- sin paralelismo\n",
    "\n",
    "### Configuración 02\n",
    "- con tratamiento de partículas idénticas\n",
    "- sin paralelismo\n",
    "\n",
    "### Configuración 03\n",
    "- sin tratamiento de partículas idénticas\n",
    "- con paralelismo\n",
    "\n",
    "### Configuración 04\n",
    "- con tratamiento de partículas idénticas\n",
    "- con paralelismo"
   ]
  },
  {
   "cell_type": "code",
   "execution_count": null,
   "id": "58f5afdf-ed5a-4c17-b847-11b989f913bb",
   "metadata": {},
   "outputs": [],
   "source": []
  }
 ],
 "metadata": {
  "kernelspec": {
   "display_name": "Julia 1.7.2",
   "language": "julia",
   "name": "julia-1.7"
  },
  "language_info": {
   "file_extension": ".jl",
   "mimetype": "application/julia",
   "name": "julia",
   "version": "1.7.2"
  }
 },
 "nbformat": 4,
 "nbformat_minor": 5
}
